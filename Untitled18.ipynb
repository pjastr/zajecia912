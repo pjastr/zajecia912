{
  "nbformat": 4,
  "nbformat_minor": 0,
  "metadata": {
    "colab": {
      "provenance": []
    },
    "kernelspec": {
      "name": "python3",
      "display_name": "Python 3"
    },
    "language_info": {
      "name": "python"
    }
  },
  "cells": [
    {
      "cell_type": "code",
      "execution_count": null,
      "metadata": {
        "id": "dUHwY5Kg7RXB"
      },
      "outputs": [],
      "source": [
        "a=5\n",
        "print(a,3)\n",
        "\n",
        "def foo(a) -> int:\n",
        "  return a+3\n",
        "\n",
        "print(foo(5))"
      ]
    },
    {
      "cell_type": "code",
      "source": [
        "!pip install flake8\n",
        "!pip install mypy\n",
        "!pip install nbqa"
      ],
      "metadata": {
        "colab": {
          "base_uri": "https://localhost:8080/"
        },
        "id": "Ylv4vhRP7Vss",
        "outputId": "294ea8d4-e862-45a6-b2f3-91ff89eb3a12"
      },
      "execution_count": 1,
      "outputs": [
        {
          "output_type": "stream",
          "name": "stdout",
          "text": [
            "Looking in indexes: https://pypi.org/simple, https://us-python.pkg.dev/colab-wheels/public/simple/\n",
            "Collecting flake8\n",
            "  Downloading flake8-6.0.0-py2.py3-none-any.whl (57 kB)\n",
            "\u001b[K     |████████████████████████████████| 57 kB 1.7 MB/s \n",
            "\u001b[?25hCollecting mccabe<0.8.0,>=0.7.0\n",
            "  Downloading mccabe-0.7.0-py2.py3-none-any.whl (7.3 kB)\n",
            "Collecting pycodestyle<2.11.0,>=2.10.0\n",
            "  Downloading pycodestyle-2.10.0-py2.py3-none-any.whl (41 kB)\n",
            "\u001b[K     |████████████████████████████████| 41 kB 127 kB/s \n",
            "\u001b[?25hCollecting pyflakes<3.1.0,>=3.0.0\n",
            "  Downloading pyflakes-3.0.1-py2.py3-none-any.whl (62 kB)\n",
            "\u001b[K     |████████████████████████████████| 62 kB 662 kB/s \n",
            "\u001b[?25hInstalling collected packages: pyflakes, pycodestyle, mccabe, flake8\n",
            "Successfully installed flake8-6.0.0 mccabe-0.7.0 pycodestyle-2.10.0 pyflakes-3.0.1\n",
            "Looking in indexes: https://pypi.org/simple, https://us-python.pkg.dev/colab-wheels/public/simple/\n",
            "Collecting mypy\n",
            "  Downloading mypy-0.991-cp38-cp38-manylinux_2_17_x86_64.manylinux2014_x86_64.whl (17.9 MB)\n",
            "\u001b[K     |████████████████████████████████| 17.9 MB 753 kB/s \n",
            "\u001b[?25hRequirement already satisfied: tomli>=1.1.0 in /usr/local/lib/python3.8/dist-packages (from mypy) (2.0.1)\n",
            "Requirement already satisfied: typing-extensions>=3.10 in /usr/local/lib/python3.8/dist-packages (from mypy) (4.4.0)\n",
            "Collecting mypy-extensions>=0.4.3\n",
            "  Downloading mypy_extensions-0.4.3-py2.py3-none-any.whl (4.5 kB)\n",
            "Installing collected packages: mypy-extensions, mypy\n",
            "Successfully installed mypy-0.991 mypy-extensions-0.4.3\n",
            "Looking in indexes: https://pypi.org/simple, https://us-python.pkg.dev/colab-wheels/public/simple/\n",
            "Collecting nbqa\n",
            "  Downloading nbqa-1.5.3-py3-none-any.whl (33 kB)\n",
            "Collecting tokenize-rt>=3.2.0\n",
            "  Downloading tokenize_rt-5.0.0-py2.py3-none-any.whl (5.8 kB)\n",
            "Requirement already satisfied: tomli in /usr/local/lib/python3.8/dist-packages (from nbqa) (2.0.1)\n",
            "Requirement already satisfied: ipython>=7.8.0 in /usr/local/lib/python3.8/dist-packages (from nbqa) (7.9.0)\n",
            "Requirement already satisfied: setuptools>=18.5 in /usr/local/lib/python3.8/dist-packages (from ipython>=7.8.0->nbqa) (57.4.0)\n",
            "Requirement already satisfied: traitlets>=4.2 in /usr/local/lib/python3.8/dist-packages (from ipython>=7.8.0->nbqa) (5.6.0)\n",
            "Collecting jedi>=0.10\n",
            "  Downloading jedi-0.18.2-py2.py3-none-any.whl (1.6 MB)\n",
            "\u001b[K     |████████████████████████████████| 1.6 MB 8.4 MB/s \n",
            "\u001b[?25hRequirement already satisfied: decorator in /usr/local/lib/python3.8/dist-packages (from ipython>=7.8.0->nbqa) (4.4.2)\n",
            "Requirement already satisfied: backcall in /usr/local/lib/python3.8/dist-packages (from ipython>=7.8.0->nbqa) (0.2.0)\n",
            "Requirement already satisfied: prompt-toolkit<2.1.0,>=2.0.0 in /usr/local/lib/python3.8/dist-packages (from ipython>=7.8.0->nbqa) (2.0.10)\n",
            "Requirement already satisfied: pygments in /usr/local/lib/python3.8/dist-packages (from ipython>=7.8.0->nbqa) (2.6.1)\n",
            "Requirement already satisfied: pickleshare in /usr/local/lib/python3.8/dist-packages (from ipython>=7.8.0->nbqa) (0.7.5)\n",
            "Requirement already satisfied: pexpect in /usr/local/lib/python3.8/dist-packages (from ipython>=7.8.0->nbqa) (4.8.0)\n",
            "Requirement already satisfied: parso<0.9.0,>=0.8.0 in /usr/local/lib/python3.8/dist-packages (from jedi>=0.10->ipython>=7.8.0->nbqa) (0.8.3)\n",
            "Requirement already satisfied: wcwidth in /usr/local/lib/python3.8/dist-packages (from prompt-toolkit<2.1.0,>=2.0.0->ipython>=7.8.0->nbqa) (0.2.5)\n",
            "Requirement already satisfied: six>=1.9.0 in /usr/local/lib/python3.8/dist-packages (from prompt-toolkit<2.1.0,>=2.0.0->ipython>=7.8.0->nbqa) (1.15.0)\n",
            "Requirement already satisfied: ptyprocess>=0.5 in /usr/local/lib/python3.8/dist-packages (from pexpect->ipython>=7.8.0->nbqa) (0.7.0)\n",
            "Installing collected packages: jedi, tokenize-rt, nbqa\n",
            "Successfully installed jedi-0.18.2 nbqa-1.5.3 tokenize-rt-5.0.0\n"
          ]
        }
      ]
    },
    {
      "cell_type": "code",
      "source": [
        "from google.colab import drive\n",
        "drive.mount('/content/drive')"
      ],
      "metadata": {
        "colab": {
          "base_uri": "https://localhost:8080/"
        },
        "id": "KzXqjjQ17pW4",
        "outputId": "484f053f-a137-4ded-fa6f-660bff3c41b1"
      },
      "execution_count": 3,
      "outputs": [
        {
          "output_type": "stream",
          "name": "stdout",
          "text": [
            "Mounted at /content/drive\n"
          ]
        }
      ]
    },
    {
      "cell_type": "code",
      "source": [
        "!nbqa flake8 \"/content/drive/MyDrive/Colab Notebooks/Untitled18.ipynb\""
      ],
      "metadata": {
        "colab": {
          "base_uri": "https://localhost:8080/"
        },
        "id": "KZK6NVwB7a_r",
        "outputId": "42d007e7-5944-47ad-c7b1-7df4c7fb5a9f"
      },
      "execution_count": 4,
      "outputs": [
        {
          "output_type": "stream",
          "name": "stdout",
          "text": [
            "drive/MyDrive/Colab Notebooks/Untitled18.ipynb:cell_1:1:2: E225 missing whitespace around operator\n",
            "drive/MyDrive/Colab Notebooks/Untitled18.ipynb:cell_1:2:8: E231 missing whitespace after ','\n",
            "drive/MyDrive/Colab Notebooks/Untitled18.ipynb:cell_1:4:1: E302 expected 2 blank lines, found 1\n",
            "drive/MyDrive/Colab Notebooks/Untitled18.ipynb:cell_1:5:3: E111 indentation is not a multiple of 4\n",
            "drive/MyDrive/Colab Notebooks/Untitled18.ipynb:cell_1:7:1: E305 expected 2 blank lines after class or function definition, found 1\n"
          ]
        }
      ]
    },
    {
      "cell_type": "code",
      "source": [
        "!nbqa mypy --ignore-missing-imports --strict \"/content/drive/MyDrive/Colab Notebooks/Untitled18.ipynb\""
      ],
      "metadata": {
        "colab": {
          "base_uri": "https://localhost:8080/"
        },
        "id": "Lxc1oPPb7xRH",
        "outputId": "f15e860c-73a9-4490-ab62-979fa5e7048f"
      },
      "execution_count": 5,
      "outputs": [
        {
          "output_type": "stream",
          "name": "stdout",
          "text": [
            "drive/MyDrive/Colab Notebooks/Untitled18.ipynb:cell_1:4: \u001b[1m\u001b[31merror:\u001b[m Function is missing a type annotation for one or more arguments  \u001b[m\u001b[33m[no-untyped-def]\u001b[m\n",
            "drive/MyDrive/Colab Notebooks/Untitled18.ipynb:cell_1:5: \u001b[1m\u001b[31merror:\u001b[m Returning Any from function declared to return \u001b[m\u001b[1m\"int\"\u001b[m  \u001b[m\u001b[33m[no-any-return]\u001b[m\n",
            "\u001b[1m\u001b[31mFound 2 errors in 1 file (checked 1 source file)\u001b[m\n"
          ]
        }
      ]
    }
  ]
}